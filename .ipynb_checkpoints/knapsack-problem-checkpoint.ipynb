{
 "cells": [
  {
   "cell_type": "markdown",
   "metadata": {},
   "source": [
    "# Knapsack Problem with Equality Constraint\n",
    "---"
   ]
  },
  {
   "cell_type": "markdown",
   "metadata": {},
   "source": [
    "## Problem definition"
   ]
  },
  {
   "cell_type": "markdown",
   "metadata": {},
   "source": [
    "This Python code solves the 0-1 Knapsack problem for the special case of equality constraint instead of inequality. The Knapsack problem is described on [this](https://en.wikipedia.org/wiki/Knapsack_problem) Wikipedia page. The original Knapsack problem is to maximize the sum of the values of the items (here defined as values per weight) in the knapsack so that the sum of their weights is less than or equal to the knapsack's capacity. In our case we will constrain the sum of the item weights to be equal to the knapsack's capacity. This means that we will neither allow less or more weight than the capacity of the knapsack. "
   ]
  },
  {
   "cell_type": "markdown",
   "metadata": {},
   "source": [
    "<img src=\"Knapsack.png\" />"
   ]
  },
  {
   "cell_type": "markdown",
   "metadata": {},
   "source": [
    "With a little more mathematical rigour we can define the problem according to: \n",
    "\n",
    "Find the vector $\\boldsymbol{x} \\in \\mathbb{B}$ ($\\mathbb{B}$ is the set of binary numbers) such that \n",
    "\n",
    "$$\\text{maximize} \\quad \\boldsymbol{c}^T \\boldsymbol{x}$$\n",
    "\n",
    "$$pelle$$\n",
    "\n",
    "\n",
    "$$\n",
    "\\begin{align}\n",
    "\\text{subject to} \\quad \\boldsymbol{G} \\boldsymbol{x} &\\leq \\boldsymbol{h} \\\\ \n",
    "\\boldsymbol{A} \\boldsymbol{x} &= \\boldsymbol{b}.\n",
    "\\end{align}\n",
    "$$"
   ]
  },
  {
   "cell_type": "markdown",
   "metadata": {},
   "source": [
    "$$\\text{maximize} \\quad \\boldsymbol{c}^T \\boldsymbol{x}$$\n"
   ]
  },
  {
   "cell_type": "markdown",
   "metadata": {},
   "source": [
    "For our Knapsack problem we only have the equality constraint and therefore define $\\boldsymbol{G} = 0$ and $\\boldsymbol{h} = 0$. The vector $\\boldsymbol{c}$ is the element-wise product between the weight and value vectors. All rows are zero except for one in the equality constraint. This row ensures that the sum of the item weights are exactly equal to the capacity of the knapsack. The problem type outlined above is refered to as binary integer linear programming."
   ]
  },
  {
   "cell_type": "markdown",
   "metadata": {},
   "source": [
    "$$\\text{maximize} \\quad \\boldsymbol{c}^T \\boldsymbol{x}$$\n"
   ]
  },
  {
   "cell_type": "markdown",
   "metadata": {},
   "source": [
    "## Code implementation"
   ]
  },
  {
   "cell_type": "markdown",
   "metadata": {},
   "source": [
    "We start by importing ```numpy``` and ```cvxopt```. The ```cvxopt``` library contains algorithms for convex optimization. Specifically, we will make use of a function for integer linear programming called ```ilp```."
   ]
  },
  {
   "cell_type": "code",
   "execution_count": 3,
   "metadata": {
    "collapsed": true
   },
   "outputs": [],
   "source": [
    "import numpy as np\n",
    "from cvxopt import matrix, solvers\n",
    "from cvxopt.glpk import ilp"
   ]
  },
  {
   "cell_type": "markdown",
   "metadata": {},
   "source": [
    "Setup the \"toy\" problem using ```numpy```."
   ]
  },
  {
   "cell_type": "code",
   "execution_count": 4,
   "metadata": {
    "collapsed": false
   },
   "outputs": [],
   "source": [
    "W = np.array([2.5, 3.0, 1.0, 5.5]).reshape(-1,1) # Weight list\n",
    "C = np.array([1.0, 1.5, 2.0, 3.0]).reshape(-1,1) # Cost list\n",
    "S = 6.5    # Target sum\n",
    "N = len(W) # Problem size"
   ]
  },
  {
   "cell_type": "markdown",
   "metadata": {},
   "source": [
    "The ```cvxopt``` function that we are going to use does not accept ```numpy``` arrays, instead it uses its own matrix function. Here, the variables are set up using this function. Note the ```I``` and ```B``` variables. These are sets containing the indices for the variables in ```x``` that can be considered integers and binary number respectively. In our case, all variables are binary numbers. Note the minus sign for the ```c``` variable. This is used to convert the problem from a minimization problem (default in ```ilp```) to our maximation problem."
   ]
  },
  {
   "cell_type": "code",
   "execution_count": 18,
   "metadata": {
    "collapsed": false
   },
   "outputs": [],
   "source": [
    "c = -matrix(np.multiply(C,W))\n",
    "G = matrix(np.zeros((N,N)))\n",
    "h = matrix(np.zeros((N,1)))\n",
    "A = np.zeros((N-1,N))\n",
    "A = matrix(np.concatenate((W.reshape(1,-1), A), axis=0))\n",
    "b = np.zeros((N-1,1))\n",
    "b = matrix(np.insert(b, 0, S, axis=None))\n",
    "I = set()\n",
    "B = set(range(0,N))"
   ]
  },
  {
   "cell_type": "markdown",
   "metadata": {},
   "source": [
    "Now, it is time to run the optimization. "
   ]
  },
  {
   "cell_type": "code",
   "execution_count": 19,
   "metadata": {
    "collapsed": false
   },
   "outputs": [
    {
     "name": "stdout",
     "output_type": "stream",
     "text": [
      "[ 0.00e+00]\n",
      "[ 0.00e+00]\n",
      "[ 1.00e+00]\n",
      "[ 1.00e+00]\n",
      "\n",
      "optimal\n"
     ]
    }
   ],
   "source": [
    "(status, x) = ilp(c, G, h, A, b, I, B)\n",
    "print(x)\n",
    "print(status)"
   ]
  },
  {
   "cell_type": "markdown",
   "metadata": {
    "collapsed": true
   },
   "source": [
    "The solver outputs the values of the sought variables along with a status showing that the optimization was performed successfully."
   ]
  }
 ],
 "metadata": {
  "anaconda-cloud": {},
  "kernelspec": {
   "display_name": "Python [conda root]",
   "language": "python",
   "name": "conda-root-py"
  },
  "language_info": {
   "codemirror_mode": {
    "name": "ipython",
    "version": 3
   },
   "file_extension": ".py",
   "mimetype": "text/x-python",
   "name": "python",
   "nbconvert_exporter": "python",
   "pygments_lexer": "ipython3",
   "version": "3.5.2"
  }
 },
 "nbformat": 4,
 "nbformat_minor": 1
}
